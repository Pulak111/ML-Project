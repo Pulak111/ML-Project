{
 "cells": [
  {
   "cell_type": "markdown",
   "id": "10d4f0f1",
   "metadata": {},
   "source": [
    "# Importing Libraries"
   ]
  },
  {
   "cell_type": "code",
   "execution_count": 1,
   "id": "f7f9e646",
   "metadata": {},
   "outputs": [],
   "source": [
    "import numpy as np\n",
    "import pandas as pd\n",
    "import matplotlib.pyplot as plt\n",
    "import seaborn as sns\n",
    "from sklearn.metrics import confusion_matrix, accuracy_score, mean_squared_error"
   ]
  },
  {
   "cell_type": "markdown",
   "id": "48b1a2aa",
   "metadata": {},
   "source": [
    "# Importing Dataset"
   ]
  },
  {
   "cell_type": "code",
   "execution_count": 2,
   "id": "f0fcf2d5",
   "metadata": {},
   "outputs": [],
   "source": [
    "dataset = pd.read_csv('Data.csv')"
   ]
  },
  {
   "cell_type": "code",
   "execution_count": 3,
   "id": "0049cb62",
   "metadata": {},
   "outputs": [
    {
     "data": {
      "text/html": [
       "<div>\n",
       "<style scoped>\n",
       "    .dataframe tbody tr th:only-of-type {\n",
       "        vertical-align: middle;\n",
       "    }\n",
       "\n",
       "    .dataframe tbody tr th {\n",
       "        vertical-align: top;\n",
       "    }\n",
       "\n",
       "    .dataframe thead th {\n",
       "        text-align: right;\n",
       "    }\n",
       "</style>\n",
       "<table border=\"1\" class=\"dataframe\">\n",
       "  <thead>\n",
       "    <tr style=\"text-align: right;\">\n",
       "      <th></th>\n",
       "      <th>Sample code number</th>\n",
       "      <th>Clump Thickness</th>\n",
       "      <th>Uniformity of Cell Size</th>\n",
       "      <th>Uniformity of Cell Shape</th>\n",
       "      <th>Marginal Adhesion</th>\n",
       "      <th>Single Epithelial Cell Size</th>\n",
       "      <th>Bare Nuclei</th>\n",
       "      <th>Bland Chromatin</th>\n",
       "      <th>Normal Nucleoli</th>\n",
       "      <th>Mitoses</th>\n",
       "      <th>Class</th>\n",
       "    </tr>\n",
       "  </thead>\n",
       "  <tbody>\n",
       "    <tr>\n",
       "      <th>0</th>\n",
       "      <td>1000025</td>\n",
       "      <td>5</td>\n",
       "      <td>1</td>\n",
       "      <td>1</td>\n",
       "      <td>1</td>\n",
       "      <td>2</td>\n",
       "      <td>1</td>\n",
       "      <td>3</td>\n",
       "      <td>1</td>\n",
       "      <td>1</td>\n",
       "      <td>2</td>\n",
       "    </tr>\n",
       "    <tr>\n",
       "      <th>1</th>\n",
       "      <td>1002945</td>\n",
       "      <td>5</td>\n",
       "      <td>4</td>\n",
       "      <td>4</td>\n",
       "      <td>5</td>\n",
       "      <td>7</td>\n",
       "      <td>10</td>\n",
       "      <td>3</td>\n",
       "      <td>2</td>\n",
       "      <td>1</td>\n",
       "      <td>2</td>\n",
       "    </tr>\n",
       "    <tr>\n",
       "      <th>2</th>\n",
       "      <td>1015425</td>\n",
       "      <td>3</td>\n",
       "      <td>1</td>\n",
       "      <td>1</td>\n",
       "      <td>1</td>\n",
       "      <td>2</td>\n",
       "      <td>2</td>\n",
       "      <td>3</td>\n",
       "      <td>1</td>\n",
       "      <td>1</td>\n",
       "      <td>2</td>\n",
       "    </tr>\n",
       "    <tr>\n",
       "      <th>3</th>\n",
       "      <td>1016277</td>\n",
       "      <td>6</td>\n",
       "      <td>8</td>\n",
       "      <td>8</td>\n",
       "      <td>1</td>\n",
       "      <td>3</td>\n",
       "      <td>4</td>\n",
       "      <td>3</td>\n",
       "      <td>7</td>\n",
       "      <td>1</td>\n",
       "      <td>2</td>\n",
       "    </tr>\n",
       "    <tr>\n",
       "      <th>4</th>\n",
       "      <td>1017023</td>\n",
       "      <td>4</td>\n",
       "      <td>1</td>\n",
       "      <td>1</td>\n",
       "      <td>3</td>\n",
       "      <td>2</td>\n",
       "      <td>1</td>\n",
       "      <td>3</td>\n",
       "      <td>1</td>\n",
       "      <td>1</td>\n",
       "      <td>2</td>\n",
       "    </tr>\n",
       "  </tbody>\n",
       "</table>\n",
       "</div>"
      ],
      "text/plain": [
       "   Sample code number  Clump Thickness  Uniformity of Cell Size  \\\n",
       "0             1000025                5                        1   \n",
       "1             1002945                5                        4   \n",
       "2             1015425                3                        1   \n",
       "3             1016277                6                        8   \n",
       "4             1017023                4                        1   \n",
       "\n",
       "   Uniformity of Cell Shape  Marginal Adhesion  Single Epithelial Cell Size  \\\n",
       "0                         1                  1                            2   \n",
       "1                         4                  5                            7   \n",
       "2                         1                  1                            2   \n",
       "3                         8                  1                            3   \n",
       "4                         1                  3                            2   \n",
       "\n",
       "   Bare Nuclei  Bland Chromatin  Normal Nucleoli  Mitoses  Class  \n",
       "0            1                3                1        1      2  \n",
       "1           10                3                2        1      2  \n",
       "2            2                3                1        1      2  \n",
       "3            4                3                7        1      2  \n",
       "4            1                3                1        1      2  "
      ]
     },
     "execution_count": 3,
     "metadata": {},
     "output_type": "execute_result"
    }
   ],
   "source": [
    "df = dataset.copy()\n",
    "df.head()"
   ]
  },
  {
   "cell_type": "markdown",
   "id": "a5f4109e",
   "metadata": {},
   "source": [
    "# Data Preprocessing"
   ]
  },
  {
   "cell_type": "code",
   "execution_count": 4,
   "id": "f952af89",
   "metadata": {},
   "outputs": [
    {
     "name": "stdout",
     "output_type": "stream",
     "text": [
      "<class 'pandas.core.frame.DataFrame'>\n",
      "RangeIndex: 683 entries, 0 to 682\n",
      "Data columns (total 11 columns):\n",
      " #   Column                       Non-Null Count  Dtype\n",
      "---  ------                       --------------  -----\n",
      " 0   Sample code number           683 non-null    int64\n",
      " 1   Clump Thickness              683 non-null    int64\n",
      " 2   Uniformity of Cell Size      683 non-null    int64\n",
      " 3   Uniformity of Cell Shape     683 non-null    int64\n",
      " 4   Marginal Adhesion            683 non-null    int64\n",
      " 5   Single Epithelial Cell Size  683 non-null    int64\n",
      " 6   Bare Nuclei                  683 non-null    int64\n",
      " 7   Bland Chromatin              683 non-null    int64\n",
      " 8   Normal Nucleoli              683 non-null    int64\n",
      " 9   Mitoses                      683 non-null    int64\n",
      " 10  Class                        683 non-null    int64\n",
      "dtypes: int64(11)\n",
      "memory usage: 58.8 KB\n"
     ]
    }
   ],
   "source": [
    "df.info()"
   ]
  },
  {
   "cell_type": "markdown",
   "id": "f8b5801f",
   "metadata": {},
   "source": [
    "### Checking for null values"
   ]
  },
  {
   "cell_type": "code",
   "execution_count": 5,
   "id": "f702eba7",
   "metadata": {},
   "outputs": [
    {
     "data": {
      "text/plain": [
       "Sample code number             0\n",
       "Clump Thickness                0\n",
       "Uniformity of Cell Size        0\n",
       "Uniformity of Cell Shape       0\n",
       "Marginal Adhesion              0\n",
       "Single Epithelial Cell Size    0\n",
       "Bare Nuclei                    0\n",
       "Bland Chromatin                0\n",
       "Normal Nucleoli                0\n",
       "Mitoses                        0\n",
       "Class                          0\n",
       "dtype: int64"
      ]
     },
     "execution_count": 5,
     "metadata": {},
     "output_type": "execute_result"
    }
   ],
   "source": [
    "df.isnull().sum()"
   ]
  },
  {
   "cell_type": "markdown",
   "id": "5c1f0d58",
   "metadata": {},
   "source": [
    "### Checking for unique"
   ]
  },
  {
   "cell_type": "code",
   "execution_count": 6,
   "id": "d4764c48",
   "metadata": {},
   "outputs": [
    {
     "name": "stdout",
     "output_type": "stream",
     "text": [
      "Sample code number : 630\n",
      "Clump Thickness : 10\n",
      "Uniformity of Cell Size : 10\n",
      "Uniformity of Cell Shape : 10\n",
      "Marginal Adhesion : 10\n",
      "Single Epithelial Cell Size : 10\n",
      "Bare Nuclei : 10\n",
      "Bland Chromatin : 10\n",
      "Normal Nucleoli : 10\n",
      "Mitoses : 9\n",
      "Class : 2\n"
     ]
    }
   ],
   "source": [
    "for column, data in df.items():\n",
    "    unique_number = df[column].nunique()\n",
    "    print(f'{column} : {unique_number}')"
   ]
  },
  {
   "cell_type": "markdown",
   "id": "bcdef25c",
   "metadata": {},
   "source": [
    "### Correlation of every features with outcome"
   ]
  },
  {
   "cell_type": "code",
   "execution_count": 7,
   "id": "190086bc",
   "metadata": {},
   "outputs": [],
   "source": [
    "df_correlation = df.corr()"
   ]
  },
  {
   "cell_type": "code",
   "execution_count": 8,
   "id": "db2dd676",
   "metadata": {},
   "outputs": [
    {
     "data": {
      "text/plain": [
       "Class                          1.000000\n",
       "Bare Nuclei                    0.822696\n",
       "Uniformity of Cell Shape       0.821891\n",
       "Uniformity of Cell Size        0.820801\n",
       "Bland Chromatin                0.758228\n",
       "Normal Nucleoli                0.718677\n",
       "Clump Thickness                0.714790\n",
       "Marginal Adhesion              0.706294\n",
       "Single Epithelial Cell Size    0.690958\n",
       "Mitoses                        0.423448\n",
       "Sample code number            -0.084701\n",
       "Name: Class, dtype: float64"
      ]
     },
     "execution_count": 8,
     "metadata": {},
     "output_type": "execute_result"
    }
   ],
   "source": [
    "df_correlation['Class'].sort_values(ascending = False)"
   ]
  },
  {
   "cell_type": "markdown",
   "id": "d41050bc",
   "metadata": {},
   "source": [
    "## Data Visualisation"
   ]
  },
  {
   "cell_type": "markdown",
   "id": "dba42f27",
   "metadata": {},
   "source": [
    "### Heat Map"
   ]
  },
  {
   "cell_type": "code",
   "execution_count": 9,
   "id": "dae95a82",
   "metadata": {},
   "outputs": [
    {
     "data": {
      "text/plain": [
       "<Axes: >"
      ]
     },
     "execution_count": 9,
     "metadata": {},
     "output_type": "execute_result"
    },
    {
     "data": {
      "image/png": "[encoded data removed]",
      "text/plain": [
       "<Figure size 1500x1000 with 2 Axes>"
      ]
     },
     "metadata": {},
     "output_type": "display_data"
    }
   ],
   "source": [
    "plt.figure(figsize = (15, 10), dpi = 100)\n",
    "sns.heatmap(df_correlation, annot = True)"
   ]
  },
  {
   "cell_type": "markdown",
   "id": "9727ffad",
   "metadata": {},
   "source": [
    "### Visualising The Output Result"
   ]
  },
  {
   "cell_type": "code",
   "execution_count": 10,
   "id": "64212732",
   "metadata": {},
   "outputs": [
    {
     "data": {
      "text/plain": [
       "<seaborn.axisgrid.FacetGrid at 0x14c84ac10>"
      ]
     },
     "execution_count": 10,
     "metadata": {},
     "output_type": "execute_result"
    },
    {
     "data": {
      "image/png": "[encoded data removed]",
      "text/plain": [
       "<Figure size 500x500 with 1 Axes>"
      ]
     },
     "metadata": {},
     "output_type": "display_data"
    }
   ],
   "source": [
    "sns.catplot(data = df, x = 'Class', kind = 'count')"
   ]
  },
  {
   "cell_type": "markdown",
   "id": "fd2b9e29",
   "metadata": {},
   "source": [
    "### Separatig of Features & Outcomes"
   ]
  },
  {
   "cell_type": "code",
   "execution_count": 11,
   "id": "b6248b4d",
   "metadata": {},
   "outputs": [],
   "source": [
    "X = df.iloc[:, :-1].values\n",
    "y = df.iloc[:, -1].values"
   ]
  },
  {
   "cell_type": "markdown",
   "id": "b1b6ce76",
   "metadata": {},
   "source": [
    "## Splitting into Training & Test Set"
   ]
  },
  {
   "cell_type": "code",
   "execution_count": 12,
   "id": "af8cb522",
   "metadata": {},
   "outputs": [],
   "source": [
    "from sklearn.model_selection import train_test_split\n",
    "x_train, x_test, y_train, y_test = train_test_split(X, y, test_size = .2, random_state = 0)"
   ]
  },
  {
   "cell_type": "markdown",
   "id": "08b0271d",
   "metadata": {},
   "source": [
    "### Feature Scaling"
   ]
  },
  {
   "cell_type": "code",
   "execution_count": 13,
   "id": "27a59dbc",
   "metadata": {},
   "outputs": [],
   "source": [
    "from sklearn.preprocessing import StandardScaler\n",
    "sc = StandardScaler()"
   ]
  },
  {
   "cell_type": "code",
   "execution_count": 14,
   "id": "2ea579fa",
   "metadata": {},
   "outputs": [],
   "source": [
    "x_train_fs = sc.fit_transform(x_train)\n",
    "x_test_fs = sc.transform(x_test)"
   ]
  },
  {
   "cell_type": "markdown",
   "id": "9072a64b",
   "metadata": {},
   "source": [
    "# Model Selection"
   ]
  },
  {
   "cell_type": "markdown",
   "id": "93a67da3",
   "metadata": {},
   "source": [
    "## 1. Logistic Regression"
   ]
  },
  {
   "cell_type": "markdown",
   "id": "c46446e3",
   "metadata": {},
   "source": [
    "### Initialising the logistic Regression Model"
   ]
  },
  {
   "cell_type": "code",
   "execution_count": null,
   "id": "bf9e68e0",
   "metadata": {},
   "outputs": [],
   "source": [
    "from sklearn.linear_model import LogisticRegression\n",
    "lr = LogisticRegression(random_state = 0)"
   ]
  },
  {
   "cell_type": "markdown",
   "id": "834af2bb",
   "metadata": {},
   "source": [
    "### Training the Model"
   ]
  },
  {
   "cell_type": "code",
   "execution_count": null,
   "id": "83735d40",
   "metadata": {},
   "outputs": [],
   "source": [
    "lr.fit(x_train_fs, y_train)"
   ]
  },
  {
   "cell_type": "markdown",
   "id": "32586d8c",
   "metadata": {},
   "source": [
    "### Predicting Result For Test Case"
   ]
  },
  {
   "cell_type": "code",
   "execution_count": null,
   "id": "6028e161",
   "metadata": {},
   "outputs": [],
   "source": [
    "y_pred_lr = lr.predict(x_test_fs)"
   ]
  },
  {
   "cell_type": "code",
   "execution_count": null,
   "id": "98e0861a",
   "metadata": {},
   "outputs": [],
   "source": [
    "np.concatenate((y_pred_lr.reshape(-1,1), y_test.reshape(-1, 1)), axis = 1)"
   ]
  },
  {
   "cell_type": "markdown",
   "id": "b8d03a63",
   "metadata": {},
   "source": [
    "### Making Confusion Metrix & Accuracy Score"
   ]
  },
  {
   "cell_type": "code",
   "execution_count": null,
   "id": "3f5c43e8",
   "metadata": {},
   "outputs": [],
   "source": [
    "cm_lr = confusion_matrix(y_test, y_pred_lr)\n",
    "print(cm_lr)\n",
    "accuracy_score(y_test, y_pred_lr)"
   ]
  },
  {
   "cell_type": "code",
   "execution_count": null,
   "id": "07957b08",
   "metadata": {},
   "outputs": [],
   "source": [
    "mean_squared_error(y_test, y_pred_lr)"
   ]
  },
  {
   "cell_type": "markdown",
   "id": "46762f7c",
   "metadata": {},
   "source": [
    "## 2. K Nearest Neighbour"
   ]
  },
  {
   "cell_type": "markdown",
   "id": "0f5d7afb",
   "metadata": {},
   "source": [
    "### Initialising KNN Model"
   ]
  },
  {
   "cell_type": "code",
   "execution_count": null,
   "id": "06333caa",
   "metadata": {},
   "outputs": [],
   "source": [
    "from sklearn.neighbors import KNeighborsClassifier\n",
    "knnc = KNeighborsClassifier(n_neighbors = 5, metric = 'minkowski')"
   ]
  },
  {
   "cell_type": "markdown",
   "id": "3d193b5c",
   "metadata": {},
   "source": [
    "### Training KNN Model"
   ]
  },
  {
   "cell_type": "code",
   "execution_count": null,
   "id": "7027d218",
   "metadata": {},
   "outputs": [],
   "source": [
    "knnc.fit(x_train_fs, y_train)"
   ]
  },
  {
   "cell_type": "markdown",
   "id": "d23185e5",
   "metadata": {},
   "source": [
    "### Predicting the value for y_test"
   ]
  },
  {
   "cell_type": "code",
   "execution_count": null,
   "id": "b7d4cade",
   "metadata": {},
   "outputs": [],
   "source": [
    "y_pred_knnc = knnc.predict(x_test_fs)"
   ]
  },
  {
   "cell_type": "code",
   "execution_count": null,
   "id": "acab228a",
   "metadata": {},
   "outputs": [],
   "source": [
    "np.concatenate((y_pred_knnc.reshape(-1,1), y_test.reshape(-1,1)), axis = 1)"
   ]
  },
  {
   "cell_type": "code",
   "execution_count": null,
   "id": "3991700e",
   "metadata": {},
   "outputs": [],
   "source": [
    "cm_knnc = confusion_matrix(y_test, y_pred_knnc)\n",
    "print(cm_knnc)\n",
    "accuracy_score(y_test, y_pred_knnc)"
   ]
  },
  {
   "cell_type": "code",
   "execution_count": null,
   "id": "1c44f60f",
   "metadata": {},
   "outputs": [],
   "source": [
    "mean_squared_error(y_test, y_pred_knnc)"
   ]
  },
  {
   "cell_type": "markdown",
   "id": "cfab1f04",
   "metadata": {},
   "source": [
    "## 3.Support Vector Machine"
   ]
  },
  {
   "cell_type": "markdown",
   "id": "661caaa8",
   "metadata": {},
   "source": [
    "### Initialising The SVM Model"
   ]
  },
  {
   "cell_type": "code",
   "execution_count": null,
   "id": "0e0ac147",
   "metadata": {},
   "outputs": [],
   "source": [
    "from sklearn.svm import SVC\n",
    "svc = SVC(kernel = 'rbf', random_state = 0)"
   ]
  },
  {
   "cell_type": "markdown",
   "id": "7d6c49c5",
   "metadata": {},
   "source": [
    "### Training The Model"
   ]
  },
  {
   "cell_type": "code",
   "execution_count": null,
   "id": "0050f97f",
   "metadata": {},
   "outputs": [],
   "source": [
    "svc.fit(x_train_fs, y_train)"
   ]
  },
  {
   "cell_type": "markdown",
   "id": "f267199d",
   "metadata": {},
   "source": [
    "### Predicting the result for Test Case"
   ]
  },
  {
   "cell_type": "code",
   "execution_count": null,
   "id": "df36a798",
   "metadata": {},
   "outputs": [],
   "source": [
    "y_pred_svc = svc.predict(x_test_fs)"
   ]
  },
  {
   "cell_type": "code",
   "execution_count": null,
   "id": "44b4a8aa",
   "metadata": {},
   "outputs": [],
   "source": [
    "np.concatenate((y_pred_svc.reshape(-1,1), y_test.reshape(-1, 1)), axis = 1)"
   ]
  },
  {
   "cell_type": "code",
   "execution_count": null,
   "id": "e9bfb6fc",
   "metadata": {},
   "outputs": [],
   "source": [
    "cm_svc = confusion_matrix(y_test, y_pred_svc)\n",
    "print(cm_svc)\n",
    "accuracy_score(y_test, y_pred_svc)"
   ]
  },
  {
   "cell_type": "code",
   "execution_count": null,
   "id": "21550339",
   "metadata": {},
   "outputs": [],
   "source": [
    "mean_squared_error(y_test, y_pred_svc)"
   ]
  },
  {
   "cell_type": "markdown",
   "id": "cf2af811",
   "metadata": {},
   "source": [
    "## 4. Naive Bayes"
   ]
  },
  {
   "cell_type": "markdown",
   "id": "292444b0",
   "metadata": {},
   "source": [
    "### Initialising the Naive Bayes Model"
   ]
  },
  {
   "cell_type": "code",
   "execution_count": 17,
   "id": "033af474",
   "metadata": {},
   "outputs": [],
   "source": [
    "from sklearn.naive_bayes import GaussianNB\n",
    "nvc = GaussianNB()"
   ]
  },
  {
   "cell_type": "markdown",
   "id": "430361ed",
   "metadata": {},
   "source": [
    "### Training the Naive Bayes Model"
   ]
  },
  {
   "cell_type": "code",
   "execution_count": 18,
   "id": "f9d76727",
   "metadata": {},
   "outputs": [
    {
     "data": {
      "text/html": [
       "<style>#sk-container-id-2 {color: black;background-color: white;}#sk-container-id-2 pre{padding: 0;}#sk-container-id-2 div.sk-toggleable {background-color: white;}#sk-container-id-2 label.sk-toggleable__label {cursor: pointer;display: block;width: 100%;margin-bottom: 0;padding: 0.3em;box-sizing: border-box;text-align: center;}#sk-container-id-2 label.sk-toggleable__label-arrow:before {content: \"▸\";float: left;margin-right: 0.25em;color: #696969;}#sk-container-id-2 label.sk-toggleable__label-arrow:hover:before {color: black;}#sk-container-id-2 div.sk-estimator:hover label.sk-toggleable__label-arrow:before {color: black;}#sk-container-id-2 div.sk-toggleable__content {max-height: 0;max-width: 0;overflow: hidden;text-align: left;background-color: #f0f8ff;}#sk-container-id-2 div.sk-toggleable__content pre {margin: 0.2em;color: black;border-radius: 0.25em;background-color: #f0f8ff;}#sk-container-id-2 input.sk-toggleable__control:checked~div.sk-toggleable__content {max-height: 200px;max-width: 100%;overflow: auto;}#sk-container-id-2 input.sk-toggleable__control:checked~label.sk-toggleable__label-arrow:before {content: \"▾\";}#sk-container-id-2 div.sk-estimator input.sk-toggleable__control:checked~label.sk-toggleable__label {background-color: #d4ebff;}#sk-container-id-2 div.sk-label input.sk-toggleable__control:checked~label.sk-toggleable__label {background-color: #d4ebff;}#sk-container-id-2 input.sk-hidden--visually {border: 0;clip: rect(1px 1px 1px 1px);clip: rect(1px, 1px, 1px, 1px);height: 1px;margin: -1px;overflow: hidden;padding: 0;position: absolute;width: 1px;}#sk-container-id-2 div.sk-estimator {font-family: monospace;background-color: #f0f8ff;border: 1px dotted black;border-radius: 0.25em;box-sizing: border-box;margin-bottom: 0.5em;}#sk-container-id-2 div.sk-estimator:hover {background-color: #d4ebff;}#sk-container-id-2 div.sk-parallel-item::after {content: \"\";width: 100%;border-bottom: 1px solid gray;flex-grow: 1;}#sk-container-id-2 div.sk-label:hover label.sk-toggleable__label {background-color: #d4ebff;}#sk-container-id-2 div.sk-serial::before {content: \"\";position: absolute;border-left: 1px solid gray;box-sizing: border-box;top: 0;bottom: 0;left: 50%;z-index: 0;}#sk-container-id-2 div.sk-serial {display: flex;flex-direction: column;align-items: center;background-color: white;padding-right: 0.2em;padding-left: 0.2em;position: relative;}#sk-container-id-2 div.sk-item {position: relative;z-index: 1;}#sk-container-id-2 div.sk-parallel {display: flex;align-items: stretch;justify-content: center;background-color: white;position: relative;}#sk-container-id-2 div.sk-item::before, #sk-container-id-2 div.sk-parallel-item::before {content: \"\";position: absolute;border-left: 1px solid gray;box-sizing: border-box;top: 0;bottom: 0;left: 50%;z-index: -1;}#sk-container-id-2 div.sk-parallel-item {display: flex;flex-direction: column;z-index: 1;position: relative;background-color: white;}#sk-container-id-2 div.sk-parallel-item:first-child::after {align-self: flex-end;width: 50%;}#sk-container-id-2 div.sk-parallel-item:last-child::after {align-self: flex-start;width: 50%;}#sk-container-id-2 div.sk-parallel-item:only-child::after {width: 0;}#sk-container-id-2 div.sk-dashed-wrapped {border: 1px dashed gray;margin: 0 0.4em 0.5em 0.4em;box-sizing: border-box;padding-bottom: 0.4em;background-color: white;}#sk-container-id-2 div.sk-label label {font-family: monospace;font-weight: bold;display: inline-block;line-height: 1.2em;}#sk-container-id-2 div.sk-label-container {text-align: center;}#sk-container-id-2 div.sk-container {/* jupyter's `normalize.less` sets `[hidden] { display: none; }` but bootstrap.min.css set `[hidden] { display: none !important; }` so we also need the `!important` here to be able to override the default hidden behavior on the sphinx rendered scikit-learn.org. See: https://github.com/scikit-learn/scikit-learn/issues/21755 */display: inline-block !important;position: relative;}#sk-container-id-2 div.sk-text-repr-fallback {display: none;}</style><div id=\"sk-container-id-2\" class=\"sk-top-container\"><div class=\"sk-text-repr-fallback\"><pre>GaussianNB()</pre><b>In a Jupyter environment, please rerun this cell to show the HTML representation or trust the notebook. <br />On GitHub, the HTML representation is unable to render, please try loading this page with nbviewer.org.</b></div><div class=\"sk-container\" hidden><div class=\"sk-item\"><div class=\"sk-estimator sk-toggleable\"><input class=\"sk-toggleable__control sk-hidden--visually\" id=\"sk-estimator-id-2\" type=\"checkbox\" checked><label for=\"sk-estimator-id-2\" class=\"sk-toggleable__label sk-toggleable__label-arrow\">GaussianNB</label><div class=\"sk-toggleable__content\"><pre>GaussianNB()</pre></div></div></div></div></div>"
      ],
      "text/plain": [
       "GaussianNB()"
      ]
     },
     "execution_count": 18,
     "metadata": {},
     "output_type": "execute_result"
    }
   ],
   "source": [
    "nvc.fit(x_train, y_train)"
   ]
  },
  {
   "cell_type": "markdown",
   "id": "66c372a8",
   "metadata": {},
   "source": [
    "### Predicting The result on Test Case"
   ]
  },
  {
   "cell_type": "code",
   "execution_count": 19,
   "id": "8afdc21a",
   "metadata": {},
   "outputs": [],
   "source": [
    "y_pred_nvc = nvc.predict(x_test)"
   ]
  },
  {
   "cell_type": "code",
   "execution_count": 20,
   "id": "73e409e5",
   "metadata": {},
   "outputs": [
    {
     "data": {
      "text/plain": [
       "array([[2, 2],\n",
       "       [2, 2],\n",
       "       [2, 4],\n",
       "       [2, 4],\n",
       "       [2, 2],\n",
       "       [2, 2],\n",
       "       [4, 2],\n",
       "       [4, 4],\n",
       "       [4, 2],\n",
       "       [2, 2],\n",
       "       [4, 4],\n",
       "       [2, 2],\n",
       "       [4, 4],\n",
       "       [4, 2],\n",
       "       [2, 2],\n",
       "       [4, 2],\n",
       "       [4, 4],\n",
       "       [4, 4],\n",
       "       [4, 4],\n",
       "       [4, 2],\n",
       "       [2, 2],\n",
       "       [2, 2],\n",
       "       [4, 4],\n",
       "       [2, 2],\n",
       "       [4, 4],\n",
       "       [4, 4],\n",
       "       [2, 2],\n",
       "       [4, 2],\n",
       "       [2, 2],\n",
       "       [4, 4],\n",
       "       [2, 2],\n",
       "       [2, 4],\n",
       "       [4, 4],\n",
       "       [2, 2],\n",
       "       [2, 2],\n",
       "       [2, 2],\n",
       "       [4, 4],\n",
       "       [4, 4],\n",
       "       [2, 2],\n",
       "       [4, 4],\n",
       "       [2, 2],\n",
       "       [2, 2],\n",
       "       [2, 2],\n",
       "       [2, 2],\n",
       "       [2, 2],\n",
       "       [2, 2],\n",
       "       [2, 2],\n",
       "       [4, 4],\n",
       "       [2, 2],\n",
       "       [2, 2],\n",
       "       [4, 4],\n",
       "       [2, 2],\n",
       "       [4, 4],\n",
       "       [2, 2],\n",
       "       [2, 2],\n",
       "       [2, 2],\n",
       "       [2, 4],\n",
       "       [4, 2],\n",
       "       [2, 2],\n",
       "       [4, 4],\n",
       "       [2, 2],\n",
       "       [2, 2],\n",
       "       [2, 2],\n",
       "       [2, 2],\n",
       "       [2, 2],\n",
       "       [2, 2],\n",
       "       [2, 2],\n",
       "       [2, 2],\n",
       "       [4, 4],\n",
       "       [4, 4],\n",
       "       [2, 2],\n",
       "       [2, 2],\n",
       "       [2, 2],\n",
       "       [2, 2],\n",
       "       [2, 2],\n",
       "       [2, 2],\n",
       "       [4, 4],\n",
       "       [2, 2],\n",
       "       [2, 2],\n",
       "       [2, 2],\n",
       "       [4, 4],\n",
       "       [2, 2],\n",
       "       [4, 4],\n",
       "       [2, 2],\n",
       "       [2, 2],\n",
       "       [4, 4],\n",
       "       [2, 2],\n",
       "       [2, 2],\n",
       "       [2, 4],\n",
       "       [2, 2],\n",
       "       [4, 4],\n",
       "       [2, 2],\n",
       "       [2, 4],\n",
       "       [4, 4],\n",
       "       [4, 4],\n",
       "       [4, 2],\n",
       "       [4, 4],\n",
       "       [4, 4],\n",
       "       [4, 4],\n",
       "       [2, 2],\n",
       "       [2, 2],\n",
       "       [2, 2],\n",
       "       [4, 4],\n",
       "       [4, 4],\n",
       "       [4, 2],\n",
       "       [2, 2],\n",
       "       [4, 4],\n",
       "       [2, 4],\n",
       "       [2, 2],\n",
       "       [2, 2],\n",
       "       [4, 4],\n",
       "       [2, 2],\n",
       "       [2, 2],\n",
       "       [2, 4],\n",
       "       [4, 2],\n",
       "       [2, 2],\n",
       "       [2, 2],\n",
       "       [4, 4],\n",
       "       [2, 2],\n",
       "       [4, 2],\n",
       "       [2, 2],\n",
       "       [4, 4],\n",
       "       [2, 2],\n",
       "       [2, 2],\n",
       "       [2, 4],\n",
       "       [2, 4],\n",
       "       [2, 2],\n",
       "       [2, 4],\n",
       "       [2, 2],\n",
       "       [2, 4],\n",
       "       [2, 2],\n",
       "       [2, 2],\n",
       "       [4, 4],\n",
       "       [2, 2],\n",
       "       [2, 2],\n",
       "       [4, 4],\n",
       "       [2, 2]])"
      ]
     },
     "execution_count": 20,
     "metadata": {},
     "output_type": "execute_result"
    }
   ],
   "source": [
    "np.concatenate((y_pred_nvc.reshape(-1,1), y_test.reshape(-1,1)), axis = 1)"
   ]
  },
  {
   "cell_type": "code",
   "execution_count": 21,
   "id": "fdeec345",
   "metadata": {},
   "outputs": [
    {
     "name": "stdout",
     "output_type": "stream",
     "text": [
      "[[76 11]\n",
      " [12 38]]\n"
     ]
    },
    {
     "data": {
      "text/plain": [
       "0.8321167883211679"
      ]
     },
     "execution_count": 21,
     "metadata": {},
     "output_type": "execute_result"
    }
   ],
   "source": [
    "cm_nvc = confusion_matrix(y_test, y_pred_nvc)\n",
    "print(cm_nvc)\n",
    "accuracy_score(y_test, y_pred_nvc)"
   ]
  },
  {
   "cell_type": "code",
   "execution_count": 22,
   "id": "b928aae2",
   "metadata": {},
   "outputs": [
    {
     "data": {
      "text/plain": [
       "0.6715328467153284"
      ]
     },
     "execution_count": 22,
     "metadata": {},
     "output_type": "execute_result"
    }
   ],
   "source": [
    "mean_squared_error(y_test, y_pred_nvc)"
   ]
  },
  {
   "cell_type": "markdown",
   "id": "b709ef8c",
   "metadata": {},
   "source": [
    "## 5. Decision Tree Classification"
   ]
  },
  {
   "cell_type": "code",
   "execution_count": null,
   "id": "f2a970ef",
   "metadata": {},
   "outputs": [],
   "source": [
    "from sklearn.tree import DecisionTreeClassifier\n",
    "dtc = DecisionTreeClassifier(criterion = 'entropy', random_state = 0)"
   ]
  },
  {
   "cell_type": "markdown",
   "id": "0c1c5473",
   "metadata": {},
   "source": [
    "### Training The dtc model"
   ]
  },
  {
   "cell_type": "code",
   "execution_count": null,
   "id": "5a6d15b2",
   "metadata": {},
   "outputs": [],
   "source": [
    "dtc.fit(x_train, y_train)"
   ]
  },
  {
   "cell_type": "markdown",
   "id": "c0b23578",
   "metadata": {},
   "source": [
    "### Predicting the result for test Case"
   ]
  },
  {
   "cell_type": "code",
   "execution_count": null,
   "id": "c0a33063",
   "metadata": {},
   "outputs": [],
   "source": [
    "y_pred_dtc = dtc.predict(x_test)"
   ]
  },
  {
   "cell_type": "code",
   "execution_count": null,
   "id": "49b31b3f",
   "metadata": {},
   "outputs": [],
   "source": [
    "np.concatenate((y_pred_dtc.reshape(-1, 1), y_test.reshape(-1, 1)), axis = 1)"
   ]
  },
  {
   "cell_type": "code",
   "execution_count": null,
   "id": "73e21a6e",
   "metadata": {},
   "outputs": [],
   "source": [
    "cm_dtc = confusion_matrix(y_test, y_pred_dtc)\n",
    "print(cm_dtc)\n",
    "accuracy_score(y_test, y_pred_dtc)"
   ]
  },
  {
   "cell_type": "code",
   "execution_count": null,
   "id": "2e6971ee",
   "metadata": {},
   "outputs": [],
   "source": [
    "mean_squared_error(y_test, y_pred_dtc)"
   ]
  },
  {
   "cell_type": "markdown",
   "id": "ebd6ece9",
   "metadata": {},
   "source": [
    "## 6. Random Forest Classification"
   ]
  },
  {
   "cell_type": "markdown",
   "id": "f43dc3e0",
   "metadata": {},
   "source": [
    "### Initialising the RFC model"
   ]
  },
  {
   "cell_type": "code",
   "execution_count": null,
   "id": "9f18b819",
   "metadata": {},
   "outputs": [],
   "source": [
    "from sklearn.ensemble import RandomForestClassifier\n",
    "rfc = RandomForestClassifier(n_estimators = 50, criterion = 'entropy', random_state = 0)"
   ]
  },
  {
   "cell_type": "markdown",
   "id": "581e7a14",
   "metadata": {},
   "source": [
    "### Training the RFC model"
   ]
  },
  {
   "cell_type": "code",
   "execution_count": null,
   "id": "76fe66be",
   "metadata": {},
   "outputs": [],
   "source": [
    "rfc.fit(x_train, y_train)"
   ]
  },
  {
   "cell_type": "markdown",
   "id": "d327bf55",
   "metadata": {},
   "source": [
    "### Predicting the Test Set Result"
   ]
  },
  {
   "cell_type": "code",
   "execution_count": null,
   "id": "c85eaee5",
   "metadata": {},
   "outputs": [],
   "source": [
    "y_pred_rfc = rfc.predict(x_test)"
   ]
  },
  {
   "cell_type": "code",
   "execution_count": null,
   "id": "36a7bb25",
   "metadata": {},
   "outputs": [],
   "source": [
    "np.concatenate((y_pred_rfc.reshape(-1,1), y_test.reshape(-1,1)), axis = 1)"
   ]
  },
  {
   "cell_type": "code",
   "execution_count": null,
   "id": "06c0b5fb",
   "metadata": {},
   "outputs": [],
   "source": [
    "cm_rfc = confusion_matrix(y_test, y_pred_rfc)\n",
    "print(cm_rfc)\n",
    "accuracy_score(y_test, y_pred_rfc)"
   ]
  },
  {
   "cell_type": "markdown",
   "id": "5d548ac0",
   "metadata": {},
   "source": [
    "# Classification Report"
   ]
  },
  {
   "cell_type": "code",
   "execution_count": null,
   "id": "0be944fe",
   "metadata": {},
   "outputs": [],
   "source": [
    "models_name = ['Logistic Regression', 'K Nearest Neighbors', 'Support Vector Machine', 'Naive Bayes', 'Decision Tree Classification', 'Random Forest Classification']"
   ]
  },
  {
   "cell_type": "code",
   "execution_count": null,
   "id": "40ae602a",
   "metadata": {},
   "outputs": [],
   "source": [
    "from sklearn.metrics import classification_report"
   ]
  },
  {
   "cell_type": "code",
   "execution_count": null,
   "id": "915b2017",
   "metadata": {},
   "outputs": [],
   "source": [
    "report_lr = classification_report(y_test, y_pred_lr)\n",
    "report_knnc = classification_report(y_test, y_pred_knnc)\n",
    "report_svc = classification_report(y_test, y_pred_svc)\n",
    "report_nvc = classification_report(y_test, y_pred_nvc)\n",
    "report_dtc = classification_report(y_test, y_pred_dtc)\n",
    "report_rfc = classification_report(y_test, y_pred_rfc)"
   ]
  },
  {
   "cell_type": "code",
   "execution_count": null,
   "id": "1ee1f195",
   "metadata": {},
   "outputs": [],
   "source": [
    "class_rep = [report_lr, report_knnc, report_svc, report_nvc, report_dtc, report_rfc]"
   ]
  },
  {
   "cell_type": "code",
   "execution_count": null,
   "id": "e4a9aae1",
   "metadata": {},
   "outputs": [],
   "source": [
    "for i in range(len(class_rep)):\n",
    "    print(f'{models_name[i]} Report : \\n', class_rep[i])\n",
    "    print('**********************************************************')"
   ]
  },
  {
   "cell_type": "code",
   "execution_count": null,
   "id": "547834bf",
   "metadata": {},
   "outputs": [],
   "source": []
  }
 ],
 "metadata": {
  "kernelspec": {
   "display_name": "Python 3 (ipykernel)",
   "language": "python",
   "name": "python3"
  },
  "language_info": {
   "codemirror_mode": {
    "name": "ipython",
    "version": 3
   },
   "file_extension": ".py",
   "mimetype": "text/x-python",
   "name": "python",
   "nbconvert_exporter": "python",
   "pygments_lexer": "ipython3",
   "version": "3.11.5"
  }
 },
 "nbformat": 4,
 "nbformat_minor": 5
}
